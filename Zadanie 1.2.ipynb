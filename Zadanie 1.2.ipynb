{
 "cells": [
  {
   "cell_type": "code",
   "execution_count": 18,
   "id": "pleasant-stack",
   "metadata": {},
   "outputs": [
    {
     "name": "stdout",
     "output_type": "stream",
     "text": [
      "73.24\n"
     ]
    }
   ],
   "source": [
    "def Average(x):\n",
    "    return sum(x) / len(x)\n",
    "\n",
    "x = [76.84878, 81.40732, 77.57895, 74.16341, 68.84907, 73.88595, 75.26829, 76.26098, 80.57244, 65.46259, 67.5482, 55.02451, 76.2799, 82.29024, 69.80695, 81.40112, 82.19756, 74.22683, 80.12888, 45.55095]\n",
    "average = Average(x)\n",
    "print(round(average,2))"
   ]
  },
  {
   "cell_type": "code",
   "execution_count": 20,
   "id": "speaking-bachelor",
   "metadata": {},
   "outputs": [
    {
     "data": {
      "text/plain": [
       "75.764635"
      ]
     },
     "execution_count": 20,
     "metadata": {},
     "output_type": "execute_result"
    }
   ],
   "source": [
    "def my_median(x):\n",
    "    n = len(x)\n",
    "    index = n // 2\n",
    "    # sample with an odd number of observations\n",
    "    if n % 2:\n",
    "        return sorted(x)[index]\n",
    "    # sample with an even number of observations\n",
    "    return sum(sorted(x)[index - 1: index + 1]) / 2\n",
    "\n",
    "x = [76.84878, 81.40732, 77.57895, 74.16341, 68.84907, 73.88595, 75.26829, 76.26098, 80.57244, 65.46259, 67.5482, 55.02451, 76.2799, 82.29024, 69.80695, 81.40112, 82.19756, 74.22683, 80.12888, 45.55095]\n",
    "\n",
    "my_median(x)"
   ]
  },
  {
   "cell_type": "code",
   "execution_count": 21,
   "id": "regular-hearing",
   "metadata": {},
   "outputs": [
    {
     "data": {
      "text/plain": [
       "[76.84878,\n",
       " 81.40732,\n",
       " 77.57895,\n",
       " 74.16341,\n",
       " 68.84907,\n",
       " 73.88595,\n",
       " 75.26829,\n",
       " 76.26098,\n",
       " 80.57244,\n",
       " 65.46259,\n",
       " 67.5482,\n",
       " 55.02451,\n",
       " 76.2799,\n",
       " 82.29024,\n",
       " 69.80695,\n",
       " 81.40112,\n",
       " 82.19756,\n",
       " 74.22683,\n",
       " 80.12888,\n",
       " 45.55095]"
      ]
     },
     "execution_count": 21,
     "metadata": {},
     "output_type": "execute_result"
    }
   ],
   "source": [
    "from collections import Counter\n",
    "def my_mode(x):\n",
    "    c = Counter(x)\n",
    "    return [k for k, v in c.items() if v == c.most_common(1)[0][1]]\n",
    "\n",
    "x = [76.84878, 81.40732, 77.57895, 74.16341, 68.84907, 73.88595, 75.26829, 76.26098, 80.57244, 65.46259, 67.5482, 55.02451, 76.2799, 82.29024, 69.80695, 81.40112, 82.19756, 74.22683, 80.12888, 45.55095]\n",
    "my_mode(x)"
   ]
  },
  {
   "cell_type": "code",
   "execution_count": 29,
   "id": "answering-hindu",
   "metadata": {},
   "outputs": [
    {
     "name": "stdout",
     "output_type": "stream",
     "text": [
      "Standard Deviation of the sample is 9.153382258904847 \n",
      "Variance of the sample is 83.78440677763399 \n",
      "Mean of the sample is 73.237646 \n",
      "Standard Deviation of the sample is 1.2578108204336613 \n"
     ]
    }
   ],
   "source": [
    "import numpy as np #for declaring an array\n",
    " \n",
    "def mean(data):\n",
    "  n = len(data)\n",
    "  mean = sum(data) / n\n",
    "  return mean\n",
    " \n",
    "def variance(data):\n",
    "  n = len(data)\n",
    "  mean = sum(data) / n\n",
    "  deviations = [(x - mean) ** 2 for x in data]\n",
    "  variance = sum(deviations) / n\n",
    "  return variance\n",
    " \n",
    "def stdev(data):\n",
    "  import math\n",
    "  var = variance(data)\n",
    "  std_dev = math.sqrt(var)\n",
    "  return std_dev\n",
    "\n",
    "x = [76.84878, 81.40732, 77.57895, 74.16341, 68.84907, 73.88595, 75.26829, 76.26098, 80.57244, 65.46259, 67.5482, 55.02451, 76.2799, 82.29024, 69.80695, 81.40112, 82.19756, 74.22683, 80.12888, 45.55095]\n",
    "y = [1.3, 1.95, 2.466, 1.6, 2.952, 1.801, 1.34, 1.34, 1.63, 2.326, 2.436, 6.563, 1.283, 1.43, 1.988, 1.61, 1.921, 2.4, 1.495, 4.705]\n",
    "data = np.array(x)\n",
    "data2 = np.array(y)\n",
    "print(\"Standard Deviation of the sample X is % s \"% (stdev(data)))\n",
    "print(\"Variance of the sample is % s \"% (variance(data)))\n",
    "print(\"Mean of the sample is % s \" % (mean(data))) \n",
    "print(\"Standard Deviation of the sample Y is % s \"% (stdev(data2)))"
   ]
  },
  {
   "cell_type": "code",
   "execution_count": 34,
   "id": "speaking-adrian",
   "metadata": {},
   "outputs": [
    {
     "name": "stdout",
     "output_type": "stream",
     "text": [
      "[[88.1941124  -9.94370445]\n",
      " [-9.94370445  1.66535585]]\n",
      "[[ 7.71096065 -0.86939492]\n",
      " [-0.86939492  0.14560488]]\n"
     ]
    }
   ],
   "source": [
    "y = [1.3, 1.95, 2.466, 1.6, 2.952, 1.801, 1.34, 1.34, 1.63, 2.326, 2.436, 6.563, 1.283, 1.43, 1.988, 1.61, 1.921, 2.4, 1.495, 4.705]\n",
    "x = [76.84878, 81.40732, 77.57895, 74.16341, 68.84907, 73.88595, 75.26829, 76.26098, 80.57244, 65.46259, 67.5482, 55.02451, 76.2799, 82.29024, 69.80695, 81.40112, 82.19756, 74.22683, 80.12888, 45.55095]\n",
    "st_devX = 9.15\n",
    "st_devY = 1.25\n",
    "cov_xy = np.cov(x,y)\n",
    "print(cov_xy/(st_devX*st_devY))\n"
   ]
  },
  {
   "cell_type": "markdown",
   "id": "uniform-shoulder",
   "metadata": {},
   "source": [
    "# Współczynnik korelacji wynosi -0.87 i jest ona bardzo wysoka.\n",
    "Korelacja jest przypadkowa, a współczynnik dzietności nie ma wpływu na średnią oczekiwaną długośc życia."
   ]
  },
  {
   "cell_type": "code",
   "execution_count": 40,
   "id": "magnetic-parent",
   "metadata": {},
   "outputs": [
    {
     "name": "stdout",
     "output_type": "stream",
     "text": [
      "73.01639320225001, 73.46360679774997\n"
     ]
    }
   ],
   "source": [
    "import math\n",
    "\n",
    "averageX = 73.24\n",
    "n = math.sqrt(20)\n",
    "standard_dev = 9.09\n",
    "z = 0.05\n",
    "\n",
    "print(f\"{averageX - z * n}, {averageX + z * n}\")"
   ]
  },
  {
   "cell_type": "markdown",
   "id": "level-management",
   "metadata": {},
   "source": [
    "# Średnia oczekiwana długośc życia dla całej populacji wynosi 73 lata."
   ]
  }
 ],
 "metadata": {
  "kernelspec": {
   "display_name": "Python 3",
   "language": "python",
   "name": "python3"
  },
  "language_info": {
   "codemirror_mode": {
    "name": "ipython",
    "version": 3
   },
   "file_extension": ".py",
   "mimetype": "text/x-python",
   "name": "python",
   "nbconvert_exporter": "python",
   "pygments_lexer": "ipython3",
   "version": "3.9.1"
  }
 },
 "nbformat": 4,
 "nbformat_minor": 5
}

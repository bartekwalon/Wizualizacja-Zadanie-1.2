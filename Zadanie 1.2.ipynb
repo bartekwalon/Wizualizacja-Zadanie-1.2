{
 "cells": [
  {
   "cell_type": "code",
   "execution_count": 17,
   "id": "pleasant-stack",
   "metadata": {},
   "outputs": [
    {
     "data": {
      "text/plain": [
       "73.24"
      ]
     },
     "execution_count": 17,
     "metadata": {},
     "output_type": "execute_result"
    }
   ],
   "source": [
    "from collections import Counter\n",
    "import math\n",
    "import numpy as np #for declaring an array\n",
    "\n",
    "def average(a):\n",
    "    return sum(a) / len(a)\n",
    "\n",
    "a = [76.84878, 81.40732, 77.57895, 74.16341, 68.84907, 73.88595, 75.26829, 76.26098, 80.57244, 65.46259, 67.5482, 55.02451, 76.2799, 82.29024, 69.80695, 81.40112, 82.19756, 74.22683, 80.12888, 45.55095]\n",
    "b = [1.3, 1.95, 2.466, 1.6, 2.952, 1.801, 1.34, 1.34, 1.63, 2.326, 2.436, 6.563, 1.283, 1.43, 1.988, 1.61, 1.921, 2.4, 1.495, 4.705]\n",
    "\n",
    "round(average(a),2)"
   ]
  },
  {
   "cell_type": "code",
   "execution_count": 18,
   "id": "speaking-bachelor",
   "metadata": {},
   "outputs": [
    {
     "data": {
      "text/plain": [
       "75.764635"
      ]
     },
     "execution_count": 18,
     "metadata": {},
     "output_type": "execute_result"
    }
   ],
   "source": [
    "def my_median(a):\n",
    "    n = len(a)\n",
    "    index = n // 2\n",
    "    # sample with an odd number of observations\n",
    "    if n % 2:\n",
    "        return sorted(a)[index]\n",
    "    # sample with an even number of observations\n",
    "    return sum(sorted(a)[index - 1: index + 1]) / 2\n",
    "\n",
    "my_median(a)"
   ]
  },
  {
   "cell_type": "code",
   "execution_count": 19,
   "id": "regular-hearing",
   "metadata": {},
   "outputs": [
    {
     "data": {
      "text/plain": [
       "[76.84878,\n",
       " 81.40732,\n",
       " 77.57895,\n",
       " 74.16341,\n",
       " 68.84907,\n",
       " 73.88595,\n",
       " 75.26829,\n",
       " 76.26098,\n",
       " 80.57244,\n",
       " 65.46259,\n",
       " 67.5482,\n",
       " 55.02451,\n",
       " 76.2799,\n",
       " 82.29024,\n",
       " 69.80695,\n",
       " 81.40112,\n",
       " 82.19756,\n",
       " 74.22683,\n",
       " 80.12888,\n",
       " 45.55095]"
      ]
     },
     "execution_count": 19,
     "metadata": {},
     "output_type": "execute_result"
    }
   ],
   "source": [
    "def my_mode(a):\n",
    "    c = Counter(a)\n",
    "    return [k for k, v in c.items() if v == c.most_common(1)[0][1]]\n",
    "\n",
    "my_mode(a)"
   ]
  },
  {
   "cell_type": "code",
   "execution_count": 20,
   "id": "answering-hindu",
   "metadata": {},
   "outputs": [
    {
     "data": {
      "text/plain": [
       "-9.943704446631578"
      ]
     },
     "execution_count": 20,
     "metadata": {},
     "output_type": "execute_result"
    }
   ],
   "source": [
    "def covariance(a, b):\n",
    "    # Finding the mean of the series a and b\n",
    "    mean_a = sum(a)/float(len(a))\n",
    "    mean_b = sum(b)/float(len(b))\n",
    "    # Subtracting mean from the individual elements\n",
    "    sub_a = [i - mean_a for i in a]\n",
    "    sub_b = [i - mean_b for i in b]\n",
    "    numerator = sum([sub_a[i]*sub_b[i] for i in range(len(sub_a))])\n",
    "    denominator = len(a)-1\n",
    "    cov = numerator/denominator\n",
    "    return cov\n",
    "\n",
    "covariance(a, b)"
   ]
  },
  {
   "cell_type": "code",
   "execution_count": 21,
   "id": "speaking-adrian",
   "metadata": {},
   "outputs": [
    {
     "data": {
      "text/plain": [
       "-0.8204930122649573"
      ]
     },
     "execution_count": 21,
     "metadata": {},
     "output_type": "execute_result"
    }
   ],
   "source": [
    "def correlation(a, b):\n",
    "    # Finding the mean of the series a and b\n",
    "    mean_a = sum(a)/float(len(a))\n",
    "    mean_b = sum(b)/float(len(b))\n",
    "    # Subtracting mean from the individual elements\n",
    "    sub_a = [i - mean_a for i in a]\n",
    "    sub_b = [i - mean_b for i in b]\n",
    "    numerator = sum([sub_a[i]*sub_b[i] for i in range(len(sub_a))])\n",
    "    # Standard Deviation of a and b\n",
    "    std_deviation_a = sum([sub_a[i]**2.0 for i in range(len(sub_a))])\n",
    "    std_deviation_b = sum([sub_b[i]**2.0 for i in range(len(sub_b))])\n",
    "    # squaring by 0.5 to find the square root\n",
    "    denominator_cor = (std_deviation_a*std_deviation_b)**0.5 # short but equivalent to (std_deviation_x**0.5) * (std_deviation_y**0.5)\n",
    "    cor = numerator/denominator_cor\n",
    "    return cor\n",
    "\n",
    "correlation(a, b)"
   ]
  },
  {
   "cell_type": "markdown",
   "id": "uniform-shoulder",
   "metadata": {},
   "source": [
    "# Współczynnik korelacji wynosi -0.82 i jest ona bardzo wysoka.\n",
    "Korelacja jest przypadkowa, a współczynnik dzietności nie ma wpływu na średnią oczekiwaną długośc życia."
   ]
  },
  {
   "cell_type": "code",
   "execution_count": 22,
   "id": "magnetic-parent",
   "metadata": {},
   "outputs": [
    {
     "name": "stdout",
     "output_type": "stream",
     "text": [
      "73.01403920225002, 73.46125279774998\n"
     ]
    }
   ],
   "source": [
    "n = math.sqrt(20)\n",
    "standard_dev = 9.09\n",
    "z = 0.05\n",
    "\n",
    "print(f\"{average(a) - z * n}, {average(a) + z * n}\")"
   ]
  },
  {
   "cell_type": "markdown",
   "id": "level-management",
   "metadata": {},
   "source": [
    "# Średnia oczekiwana długośc życia dla całej populacji wynosi 73 lata."
   ]
  },
  {
   "cell_type": "code",
   "execution_count": null,
   "id": "blind-amber",
   "metadata": {},
   "outputs": [],
   "source": []
  }
 ],
 "metadata": {
  "kernelspec": {
   "display_name": "Python 3",
   "language": "python",
   "name": "python3"
  },
  "language_info": {
   "codemirror_mode": {
    "name": "ipython",
    "version": 3
   },
   "file_extension": ".py",
   "mimetype": "text/x-python",
   "name": "python",
   "nbconvert_exporter": "python",
   "pygments_lexer": "ipython3",
   "version": "3.9.1"
  }
 },
 "nbformat": 4,
 "nbformat_minor": 5
}
